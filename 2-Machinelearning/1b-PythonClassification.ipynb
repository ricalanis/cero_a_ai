{
 "cells": [
  {
   "cell_type": "markdown",
   "metadata": {},
   "source": [
    "### Classification using scikit-learn (with pandas)"
   ]
  },
  {
   "cell_type": "code",
   "execution_count": null,
   "metadata": {},
   "outputs": [],
   "source": [
    "!wget https://transfer.sh/Mos5q/Cities.csv"
   ]
  },
  {
   "cell_type": "code",
   "execution_count": 3,
   "metadata": {},
   "outputs": [],
   "source": [
    "import csv\n",
    "import pandas as pd\n",
    "from sklearn.neighbors import KNeighborsClassifier\n",
    "from sklearn.tree import DecisionTreeClassifier\n",
    "from sklearn.ensemble import RandomForestClassifier\n",
    "from sklearn.naive_bayes import GaussianNB"
   ]
  },
  {
   "cell_type": "code",
   "execution_count": 6,
   "metadata": {},
   "outputs": [
    {
     "name": "stderr",
     "output_type": "stream",
     "text": [
      "/usr/local/lib/python3.7/site-packages/ipykernel_launcher.py:3: DeprecationWarning: 'U' mode is deprecated\n",
      "  This is separate from the ipykernel package so we can avoid doing imports until\n",
      "/usr/local/lib/python3.7/site-packages/ipykernel_launcher.py:7: DeprecationWarning: \n",
      ".ix is deprecated. Please use\n",
      ".loc for label based indexing or\n",
      ".iloc for positional indexing\n",
      "\n",
      "See the documentation here:\n",
      "http://pandas.pydata.org/pandas-docs/stable/indexing.html#ix-indexer-is-deprecated\n",
      "  import sys\n",
      "/usr/local/lib/python3.7/site-packages/ipykernel_launcher.py:9: DeprecationWarning: \n",
      ".ix is deprecated. Please use\n",
      ".loc for label based indexing or\n",
      ".iloc for positional indexing\n",
      "\n",
      "See the documentation here:\n",
      "http://pandas.pydata.org/pandas-docs/stable/indexing.html#ix-indexer-is-deprecated\n",
      "  if __name__ == '__main__':\n",
      "/usr/local/lib/python3.7/site-packages/ipykernel_launcher.py:11: DeprecationWarning: \n",
      ".ix is deprecated. Please use\n",
      ".loc for label based indexing or\n",
      ".iloc for positional indexing\n",
      "\n",
      "See the documentation here:\n",
      "http://pandas.pydata.org/pandas-docs/stable/indexing.html#ix-indexer-is-deprecated\n",
      "  # This is added back by InteractiveShellApp.init_path()\n"
     ]
    },
    {
     "name": "stdout",
     "output_type": "stream",
     "text": [
      "cold: 17\n",
      "cool: 92\n",
      "warm: 79\n",
      "hot: 25\n"
     ]
    }
   ],
   "source": [
    "# Read Cities.csv into dataframe, add column for temperature category\n",
    "# Note: For a dataframe D and integer i, D.ix[i] is the i-th row of D\n",
    "f = open('Cities.csv','rU')\n",
    "cities = pd.read_csv(f)\n",
    "cats = []\n",
    "for i in range(len(cities)):\n",
    "    if cities.ix[i]['temperature'] < 5:\n",
    "        cats.append('cold')\n",
    "    elif cities.ix[i]['temperature'] < 9:\n",
    "        cats.append('cool')\n",
    "    elif cities.ix[i]['temperature'] < 15:\n",
    "        cats.append('warm')\n",
    "    else: cats.append('hot')\n",
    "cities['category'] = cats\n",
    "print(\"cold:\", len(cities[(cities.category == 'cold')]))\n",
    "print(\"cool:\", len(cities[(cities.category == 'cool')]))\n",
    "print(\"warm:\", len(cities[(cities.category == 'warm')]))\n",
    "print(\"hot:\", len(cities[(cities.category == 'hot')]))"
   ]
  },
  {
   "cell_type": "code",
   "execution_count": 7,
   "metadata": {},
   "outputs": [
    {
     "name": "stdout",
     "output_type": "stream",
     "text": [
      "Training set 181 items\n",
      "Test set 32 items\n"
     ]
    }
   ],
   "source": [
    "# Create training and test sets for cities data\n",
    "numitems = len(cities)\n",
    "percenttrain = 0.85\n",
    "numtrain = int(numitems*percenttrain)\n",
    "numtest = numitems - numtrain\n",
    "print('Training set', numtrain, 'items')\n",
    "print('Test set', numtest, 'items')\n",
    "citiesTrain = cities[0:numtrain]\n",
    "citiesTest = cities[numtrain:]"
   ]
  },
  {
   "cell_type": "markdown",
   "metadata": {},
   "source": [
    "### K-nearest-neighbors classification"
   ]
  },
  {
   "cell_type": "code",
   "execution_count": 8,
   "metadata": {},
   "outputs": [
    {
     "name": "stdout",
     "output_type": "stream",
     "text": [
      "Predicted: warm  Actual: cool\n",
      "Predicted: warm  Actual: warm\n",
      "Predicted: warm  Actual: warm\n",
      "Predicted: warm  Actual: warm\n",
      "Predicted: cool  Actual: cool\n",
      "Predicted: cool  Actual: cool\n",
      "Predicted: cool  Actual: cool\n",
      "Predicted: cool  Actual: warm\n",
      "Predicted: warm  Actual: warm\n",
      "Predicted: cool  Actual: cold\n",
      "Predicted: cold  Actual: cold\n",
      "Predicted: warm  Actual: warm\n",
      "Predicted: cool  Actual: cold\n",
      "Predicted: warm  Actual: warm\n",
      "Predicted: warm  Actual: warm\n",
      "Predicted: warm  Actual: warm\n",
      "Predicted: warm  Actual: warm\n",
      "Predicted: hot  Actual: hot\n",
      "Predicted: cold  Actual: cold\n",
      "Predicted: cool  Actual: cold\n",
      "Predicted: cool  Actual: cold\n",
      "Predicted: hot  Actual: hot\n",
      "Predicted: cool  Actual: cool\n",
      "Predicted: warm  Actual: warm\n",
      "Predicted: cool  Actual: cool\n",
      "Predicted: cool  Actual: cool\n",
      "Predicted: cool  Actual: cool\n",
      "Predicted: cool  Actual: warm\n",
      "Predicted: warm  Actual: warm\n",
      "Predicted: cool  Actual: cool\n",
      "Predicted: warm  Actual: warm\n",
      "Predicted: cool  Actual: cool\n",
      "Accuracy: 0.78125\n"
     ]
    },
    {
     "name": "stderr",
     "output_type": "stream",
     "text": [
      "/usr/local/lib/python3.7/site-packages/ipykernel_launcher.py:12: DeprecationWarning: \n",
      ".ix is deprecated. Please use\n",
      ".loc for label based indexing or\n",
      ".iloc for positional indexing\n",
      "\n",
      "See the documentation here:\n",
      "http://pandas.pydata.org/pandas-docs/stable/indexing.html#ix-indexer-is-deprecated\n",
      "  if sys.path[0] == '':\n",
      "/usr/local/lib/python3.7/site-packages/ipykernel_launcher.py:13: DeprecationWarning: \n",
      ".ix is deprecated. Please use\n",
      ".loc for label based indexing or\n",
      ".iloc for positional indexing\n",
      "\n",
      "See the documentation here:\n",
      "http://pandas.pydata.org/pandas-docs/stable/indexing.html#ix-indexer-is-deprecated\n",
      "  del sys.path[0]\n"
     ]
    }
   ],
   "source": [
    "# Predict temperature category from other features\n",
    "features = ['longitude', 'latitude']\n",
    "neighbors = 8\n",
    "classifier = KNeighborsClassifier(neighbors)\n",
    "classifier.fit(citiesTrain[features], citiesTrain['category'])\n",
    "predictions = classifier.predict(citiesTest[features])\n",
    "# Calculate accuracy\n",
    "numtrain = len(citiesTrain)\n",
    "numtest = len(citiesTest)\n",
    "correct = 0\n",
    "for i in range(numtest):\n",
    "    print('Predicted:', predictions[i], ' Actual:', citiesTest.ix[numtrain+i]['category'])\n",
    "    if predictions[i] == citiesTest.ix[numtrain+i]['category']: correct +=1\n",
    "print('Accuracy:', float(correct)/float(numtest))\n",
    "# Comment out print, try other values for neighbors, other features"
   ]
  },
  {
   "cell_type": "markdown",
   "metadata": {
    "collapsed": true
   },
   "source": [
    "### <font color=\"green\">Your Turn: K-nearest-neighbors on World Cup Data</font>"
   ]
  },
  {
   "cell_type": "code",
   "execution_count": null,
   "metadata": {},
   "outputs": [],
   "source": [
    "!wget https://transfer.sh/CfbJS/Players.csv"
   ]
  },
  {
   "cell_type": "code",
   "execution_count": 9,
   "metadata": {},
   "outputs": [
    {
     "name": "stdout",
     "output_type": "stream",
     "text": [
      "Training set 565 items\n",
      "Test set 30 items\n"
     ]
    },
    {
     "name": "stderr",
     "output_type": "stream",
     "text": [
      "/usr/local/lib/python3.7/site-packages/ipykernel_launcher.py:3: DeprecationWarning: 'U' mode is deprecated\n",
      "  This is separate from the ipykernel package so we can avoid doing imports until\n"
     ]
    }
   ],
   "source": [
    "# Predict position from one or more of minutes, shots, passes, tackles, saves.\n",
    "# This cell does all the set-up, including reordering the data to avoid team bias.\n",
    "f = open('Players.csv','rU')\n",
    "players = pd.read_csv(f)\n",
    "players = players.sort_values(by='surname')\n",
    "players = players.reset_index(drop=True)\n",
    "numitems = len(players)\n",
    "percenttrain = 0.95\n",
    "numtrain = int(numitems*percenttrain)\n",
    "numtest = numitems - numtrain\n",
    "print('Training set', numtrain, 'items')\n",
    "print('Test set', numtest, 'items')\n",
    "playersTrain = players[0:numtrain]\n",
    "playersTest = players[numtrain:]"
   ]
  },
  {
   "cell_type": "code",
   "execution_count": 10,
   "metadata": {},
   "outputs": [
    {
     "name": "stdout",
     "output_type": "stream",
     "text": [
      "Accuracy: 0.5666666666666667\n"
     ]
    },
    {
     "name": "stderr",
     "output_type": "stream",
     "text": [
      "/usr/local/lib/python3.7/site-packages/ipykernel_launcher.py:15: DeprecationWarning: \n",
      ".ix is deprecated. Please use\n",
      ".loc for label based indexing or\n",
      ".iloc for positional indexing\n",
      "\n",
      "See the documentation here:\n",
      "http://pandas.pydata.org/pandas-docs/stable/indexing.html#ix-indexer-is-deprecated\n",
      "  from ipykernel import kernelapp as app\n"
     ]
    }
   ],
   "source": [
    "# This cell does the classification.\n",
    "# Try different features and different numbers of neighbors.\n",
    "# What's the highest accuracy you can get?\n",
    "features = ['minutes', 'shots', 'passes', 'tackles', 'saves']\n",
    "neighbors = 10\n",
    "classifier = KNeighborsClassifier(neighbors)\n",
    "classifier.fit(playersTrain[features], playersTrain['position'])\n",
    "predictions = classifier.predict(playersTest[features])\n",
    "# Calculate accuracy\n",
    "numtrain = len(playersTrain)\n",
    "numtest = len(playersTest)\n",
    "correct = 0\n",
    "for i in range(numtest):\n",
    "#    print 'Predicted:', predictions[i], ' Actual:', playersTest.ix[numtrain+i]['position']\n",
    "    if predictions[i] == playersTest.ix[numtrain+i]['position']: correct +=1\n",
    "print('Accuracy:', float(correct)/float(numtest))"
   ]
  },
  {
   "cell_type": "markdown",
   "metadata": {},
   "source": [
    "## Decision tree classification"
   ]
  },
  {
   "cell_type": "code",
   "execution_count": 11,
   "metadata": {},
   "outputs": [
    {
     "name": "stdout",
     "output_type": "stream",
     "text": [
      "Accuracy: 0.6875\n"
     ]
    },
    {
     "name": "stderr",
     "output_type": "stream",
     "text": [
      "/usr/local/lib/python3.7/site-packages/ipykernel_launcher.py:13: DeprecationWarning: \n",
      ".ix is deprecated. Please use\n",
      ".loc for label based indexing or\n",
      ".iloc for positional indexing\n",
      "\n",
      "See the documentation here:\n",
      "http://pandas.pydata.org/pandas-docs/stable/indexing.html#ix-indexer-is-deprecated\n",
      "  del sys.path[0]\n"
     ]
    }
   ],
   "source": [
    "# Predict temperature category from other features\n",
    "features = ['longitude','latitude']\n",
    "split = 10\n",
    "dt = DecisionTreeClassifier(min_samples_split=split) # parameter is optional\n",
    "dt.fit(citiesTrain[features],citiesTrain['category'])\n",
    "predictions = dt.predict(citiesTest[features])\n",
    "# Calculate accuracy\n",
    "numtrain = len(citiesTrain)\n",
    "numtest = len(citiesTest)\n",
    "correct = 0\n",
    "for i in range(numtest):\n",
    "#    print 'Predicted:', predictions[i], ' Actual:', citiesTest.ix[numtrain+i]['category']\n",
    "    if predictions[i] == citiesTest.ix[numtrain+i]['category']: correct +=1\n",
    "print('Accuracy:', float(correct)/float(numtest))\n",
    "# Try other values for split, other features"
   ]
  },
  {
   "cell_type": "markdown",
   "metadata": {},
   "source": [
    "### \"Forest\" of decision trees"
   ]
  },
  {
   "cell_type": "code",
   "execution_count": 12,
   "metadata": {},
   "outputs": [
    {
     "name": "stdout",
     "output_type": "stream",
     "text": [
      "Accuracy: 0.71875\n"
     ]
    },
    {
     "name": "stderr",
     "output_type": "stream",
     "text": [
      "/usr/local/lib/python3.7/site-packages/ipykernel_launcher.py:13: DeprecationWarning: \n",
      ".ix is deprecated. Please use\n",
      ".loc for label based indexing or\n",
      ".iloc for positional indexing\n",
      "\n",
      "See the documentation here:\n",
      "http://pandas.pydata.org/pandas-docs/stable/indexing.html#ix-indexer-is-deprecated\n",
      "  del sys.path[0]\n"
     ]
    }
   ],
   "source": [
    "# Predict temperature category from other features\n",
    "features = ['longitude', 'latitude']\n",
    "trees = 10\n",
    "rf = RandomForestClassifier(n_estimators=trees)\n",
    "rf.fit(citiesTrain[features],citiesTrain['category'])\n",
    "predictions = rf.predict(citiesTest[features])\n",
    "# Calculate accuracy\n",
    "numtrain = len(citiesTrain)\n",
    "numtest = len(citiesTest)\n",
    "correct = 0\n",
    "for i in range(numtest):\n",
    "#    print 'Predicted:', predictions[i], ' Actual:', citiesTest.ix[numtrain+i]['category']\n",
    "    if predictions[i] == citiesTest.ix[numtrain+i]['category']: correct +=1\n",
    "print('Accuracy:', float(correct)/float(numtest))\n",
    "# Try other values for trees"
   ]
  },
  {
   "cell_type": "markdown",
   "metadata": {
    "collapsed": true
   },
   "source": [
    "### <font color=\"green\">Your Turn: Decision tree and forest of trees on World Cup Data</font>"
   ]
  },
  {
   "cell_type": "code",
   "execution_count": 13,
   "metadata": {},
   "outputs": [
    {
     "name": "stdout",
     "output_type": "stream",
     "text": [
      "Accuracy: 0.4666666666666667\n"
     ]
    },
    {
     "name": "stderr",
     "output_type": "stream",
     "text": [
      "/usr/local/lib/python3.7/site-packages/ipykernel_launcher.py:16: DeprecationWarning: \n",
      ".ix is deprecated. Please use\n",
      ".loc for label based indexing or\n",
      ".iloc for positional indexing\n",
      "\n",
      "See the documentation here:\n",
      "http://pandas.pydata.org/pandas-docs/stable/indexing.html#ix-indexer-is-deprecated\n",
      "  app.launch_new_instance()\n"
     ]
    }
   ],
   "source": [
    "# SINGLE TREE\n",
    "# Predict position from one or more of minutes, shots, passes, tackles, saves.\n",
    "# Try different features and different values for min_samples_split.\n",
    "# What's the highest accuracy you can get?\n",
    "features = ['minutes', 'shots', 'passes', 'tackles', 'saves']\n",
    "split = 10\n",
    "dt = DecisionTreeClassifier(min_samples_split=split) # parameter is optional\n",
    "dt.fit(playersTrain[features],playersTrain['position'])\n",
    "predictions = dt.predict(playersTest[features])\n",
    "# Calculate accuracy\n",
    "numtrain = len(playersTrain)\n",
    "numtest = len(playersTest)\n",
    "correct = 0\n",
    "for i in range(numtest):\n",
    "#    print 'Predicted:', predictions[i], ' Actual:', playersTest.ix[numtrain+i]['position']\n",
    "    if predictions[i] == playersTest.ix[numtrain+i]['position']: correct +=1\n",
    "print('Accuracy:', float(correct)/float(numtest))"
   ]
  },
  {
   "cell_type": "code",
   "execution_count": 14,
   "metadata": {},
   "outputs": [
    {
     "name": "stdout",
     "output_type": "stream",
     "text": [
      "Accuracy: 0.5666666666666667\n"
     ]
    },
    {
     "name": "stderr",
     "output_type": "stream",
     "text": [
      "/usr/local/lib/python3.7/site-packages/ipykernel_launcher.py:16: DeprecationWarning: \n",
      ".ix is deprecated. Please use\n",
      ".loc for label based indexing or\n",
      ".iloc for positional indexing\n",
      "\n",
      "See the documentation here:\n",
      "http://pandas.pydata.org/pandas-docs/stable/indexing.html#ix-indexer-is-deprecated\n",
      "  app.launch_new_instance()\n"
     ]
    }
   ],
   "source": [
    "# FOREST OF TREES\n",
    "# Predict position from one or more of minutes, shots, passes, tackles, saves.\n",
    "# Try different values for n_estimators.\n",
    "# What's the highest accuracy you can get?\n",
    "features = ['minutes', 'shots', 'passes', 'tackles', 'saves']\n",
    "trees = 10\n",
    "rf = RandomForestClassifier(n_estimators=trees)\n",
    "rf.fit(playersTrain[features],playersTrain['position'])\n",
    "predictions = rf.predict(playersTest[features])\n",
    "# Calculate accuracy\n",
    "numtrain = len(playersTrain)\n",
    "numtest = len(playersTest)\n",
    "correct = 0\n",
    "for i in range(numtest):\n",
    "#    print 'Predicted:', predictions[i], ' Actual:', playersTest.ix[numtrain+i]['position']\n",
    "    if predictions[i] == playersTest.ix[numtrain+i]['position']: correct +=1\n",
    "print('Accuracy:', float(correct)/float(numtest))"
   ]
  },
  {
   "cell_type": "markdown",
   "metadata": {},
   "source": [
    "### Naive Bayes classification"
   ]
  },
  {
   "cell_type": "code",
   "execution_count": 15,
   "metadata": {},
   "outputs": [
    {
     "name": "stdout",
     "output_type": "stream",
     "text": [
      "Accuracy: 0.78125\n"
     ]
    },
    {
     "name": "stderr",
     "output_type": "stream",
     "text": [
      "/usr/local/lib/python3.7/site-packages/ipykernel_launcher.py:12: DeprecationWarning: \n",
      ".ix is deprecated. Please use\n",
      ".loc for label based indexing or\n",
      ".iloc for positional indexing\n",
      "\n",
      "See the documentation here:\n",
      "http://pandas.pydata.org/pandas-docs/stable/indexing.html#ix-indexer-is-deprecated\n",
      "  if sys.path[0] == '':\n"
     ]
    }
   ],
   "source": [
    "# Predict temperature category from other features\n",
    "features = ['longitude', 'latitude']\n",
    "nb = GaussianNB()\n",
    "nb.fit(citiesTrain[features],citiesTrain['category'])\n",
    "predictions = nb.predict(citiesTest[features])\n",
    "# Calculate accuracy\n",
    "numtrain = len(citiesTrain)\n",
    "numtest = len(citiesTest)\n",
    "correct = 0\n",
    "for i in range(numtest):\n",
    "#    print 'Predicted:', predictions[i], ' Actual:', citiesTest.ix[numtrain+i]['category']\n",
    "    if predictions[i] == citiesTest.ix[numtrain+i]['category']: correct +=1\n",
    "print('Accuracy:', float(correct)/float(numtest))\n",
    "# Try other features"
   ]
  },
  {
   "cell_type": "markdown",
   "metadata": {
    "collapsed": true
   },
   "source": [
    "### <font color=\"green\">Your Turn: Naive Bayes on World Cup Data</font>"
   ]
  },
  {
   "cell_type": "code",
   "execution_count": null,
   "metadata": {},
   "outputs": [],
   "source": [
    "# Predict position from one or more of minutes, shots, passes, tackles, saves.\n",
    "# Try different features. What's the highest accuracy you can get?\n",
    "features = ['minutes', 'shots', 'passes', 'tackles', 'saves']\n",
    "nb = GaussianNB()\n",
    "nb.fit(playersTrain[features],playersTrain['position'])\n",
    "predictions = nb.predict(playersTest[features])\n",
    "# Calculate accuracy\n",
    "numtrain = len(playersTrain)\n",
    "numtest = len(playersTest)\n",
    "correct = 0\n",
    "for i in range(numtest):\n",
    "#    print 'Predicted:', predictions[i], ' Actual:', playersTest.ix[numtrain+i]['position']\n",
    "    if predictions[i] == playersTest.ix[numtrain+i]['position']: correct +=1\n",
    "print('Accuracy:', float(correct)/float(numtest))"
   ]
  }
 ],
 "metadata": {
  "kernelspec": {
   "display_name": "Python 3",
   "language": "python",
   "name": "python3"
  },
  "language_info": {
   "codemirror_mode": {
    "name": "ipython",
    "version": 3
   },
   "file_extension": ".py",
   "mimetype": "text/x-python",
   "name": "python",
   "nbconvert_exporter": "python",
   "pygments_lexer": "ipython3",
   "version": "3.7.1"
  }
 },
 "nbformat": 4,
 "nbformat_minor": 1
}
